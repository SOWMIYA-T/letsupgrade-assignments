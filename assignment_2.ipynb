{
  "nbformat": 4,
  "nbformat_minor": 0,
  "metadata": {
    "colab": {
      "name": "assignment 2.ipynb",
      "provenance": []
    },
    "kernelspec": {
      "name": "python3",
      "display_name": "Python 3"
    },
    "language_info": {
      "name": "python"
    }
  },
  "cells": [
    {
      "cell_type": "markdown",
      "metadata": {
        "id": "8VfL4bDkudIK"
      },
      "source": [
        " create a dataframe with 10 rows on random numbers & 4 columns(labelled as a,b,c,d) & plot a bar chart.\n"
      ]
    },
    {
      "cell_type": "code",
      "metadata": {
        "id": "0UYERTmssGmQ"
      },
      "source": [
        "import numpy as np\n",
        "import matplotlib as mpl\n",
        "import pandas as pd\n",
        "import matplotlib as mpl\n",
        "import matplotlib.pyplot as plt\n",
        "import seaborn as sns\n",
        "from numpy.random import randn,randint,uniform,sample\n",
        "%matplotlib inline"
      ],
      "execution_count": 1,
      "outputs": []
    },
    {
      "cell_type": "code",
      "metadata": {
        "colab": {
          "base_uri": "https://localhost:8080/",
          "height": 359
        },
        "id": "yTZloNcEtFK2",
        "outputId": "cdc67dc9-7127-4077-e646-0a3972562aea"
      },
      "source": [
        "df = pd.DataFrame(randn(10,4),columns=['a','b','c','d'])\n",
        "df"
      ],
      "execution_count": 4,
      "outputs": [
        {
          "output_type": "execute_result",
          "data": {
            "text/html": [
              "<div>\n",
              "<style scoped>\n",
              "    .dataframe tbody tr th:only-of-type {\n",
              "        vertical-align: middle;\n",
              "    }\n",
              "\n",
              "    .dataframe tbody tr th {\n",
              "        vertical-align: top;\n",
              "    }\n",
              "\n",
              "    .dataframe thead th {\n",
              "        text-align: right;\n",
              "    }\n",
              "</style>\n",
              "<table border=\"1\" class=\"dataframe\">\n",
              "  <thead>\n",
              "    <tr style=\"text-align: right;\">\n",
              "      <th></th>\n",
              "      <th>a</th>\n",
              "      <th>b</th>\n",
              "      <th>c</th>\n",
              "      <th>d</th>\n",
              "    </tr>\n",
              "  </thead>\n",
              "  <tbody>\n",
              "    <tr>\n",
              "      <th>0</th>\n",
              "      <td>0.320383</td>\n",
              "      <td>0.652408</td>\n",
              "      <td>0.128718</td>\n",
              "      <td>0.442065</td>\n",
              "    </tr>\n",
              "    <tr>\n",
              "      <th>1</th>\n",
              "      <td>0.647333</td>\n",
              "      <td>2.071252</td>\n",
              "      <td>0.074931</td>\n",
              "      <td>2.158798</td>\n",
              "    </tr>\n",
              "    <tr>\n",
              "      <th>2</th>\n",
              "      <td>0.609961</td>\n",
              "      <td>0.323925</td>\n",
              "      <td>1.253111</td>\n",
              "      <td>0.620256</td>\n",
              "    </tr>\n",
              "    <tr>\n",
              "      <th>3</th>\n",
              "      <td>0.735471</td>\n",
              "      <td>-0.010108</td>\n",
              "      <td>0.455185</td>\n",
              "      <td>-0.150967</td>\n",
              "    </tr>\n",
              "    <tr>\n",
              "      <th>4</th>\n",
              "      <td>-0.320844</td>\n",
              "      <td>0.192266</td>\n",
              "      <td>-0.601428</td>\n",
              "      <td>-0.277146</td>\n",
              "    </tr>\n",
              "    <tr>\n",
              "      <th>5</th>\n",
              "      <td>0.005632</td>\n",
              "      <td>-0.642804</td>\n",
              "      <td>0.366896</td>\n",
              "      <td>2.698792</td>\n",
              "    </tr>\n",
              "    <tr>\n",
              "      <th>6</th>\n",
              "      <td>-0.893282</td>\n",
              "      <td>-0.638910</td>\n",
              "      <td>1.148230</td>\n",
              "      <td>0.313723</td>\n",
              "    </tr>\n",
              "    <tr>\n",
              "      <th>7</th>\n",
              "      <td>-0.507308</td>\n",
              "      <td>0.360601</td>\n",
              "      <td>1.022934</td>\n",
              "      <td>0.879898</td>\n",
              "    </tr>\n",
              "    <tr>\n",
              "      <th>8</th>\n",
              "      <td>-0.100011</td>\n",
              "      <td>2.329818</td>\n",
              "      <td>-1.334930</td>\n",
              "      <td>1.255637</td>\n",
              "    </tr>\n",
              "    <tr>\n",
              "      <th>9</th>\n",
              "      <td>-1.707990</td>\n",
              "      <td>-1.119490</td>\n",
              "      <td>1.609988</td>\n",
              "      <td>-1.611436</td>\n",
              "    </tr>\n",
              "  </tbody>\n",
              "</table>\n",
              "</div>"
            ],
            "text/plain": [
              "          a         b         c         d\n",
              "0  0.320383  0.652408  0.128718  0.442065\n",
              "1  0.647333  2.071252  0.074931  2.158798\n",
              "2  0.609961  0.323925  1.253111  0.620256\n",
              "3  0.735471 -0.010108  0.455185 -0.150967\n",
              "4 -0.320844  0.192266 -0.601428 -0.277146\n",
              "5  0.005632 -0.642804  0.366896  2.698792\n",
              "6 -0.893282 -0.638910  1.148230  0.313723\n",
              "7 -0.507308  0.360601  1.022934  0.879898\n",
              "8 -0.100011  2.329818 -1.334930  1.255637\n",
              "9 -1.707990 -1.119490  1.609988 -1.611436"
            ]
          },
          "metadata": {
            "tags": []
          },
          "execution_count": 4
        }
      ]
    },
    {
      "cell_type": "code",
      "metadata": {
        "colab": {
          "base_uri": "https://localhost:8080/",
          "height": 621
        },
        "id": "BI7tXiHutw-D",
        "outputId": "02333007-d3cc-458b-9ac0-911a6f719468"
      },
      "source": [
        "df.plot(kind='bar',width=(3),figsize=(12,10))\n",
        "plt.title('Bar Graph')"
      ],
      "execution_count": 7,
      "outputs": [
        {
          "output_type": "execute_result",
          "data": {
            "text/plain": [
              "Text(0.5, 1.0, 'Bar Graph')"
            ]
          },
          "metadata": {
            "tags": []
          },
          "execution_count": 7
        },
        {
          "output_type": "display_data",
          "data": {
            "image/png": "[encoded data removed]",
            "text/plain": [
              "<Figure size 864x720 with 1 Axes>"
            ]
          },
          "metadata": {
            "tags": [],
            "needs_background": "light"
          }
        }
      ]
    }
  ]
}